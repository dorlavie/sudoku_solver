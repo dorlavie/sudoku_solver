{
 "cells": [
  {
   "cell_type": "markdown",
   "metadata": {},
   "source": [
    "The following script offer a simple yet powerful way to algorithmically solve Sudoku puzzles using recursion."
   ]
  },
  {
   "cell_type": "code",
   "execution_count": 88,
   "metadata": {},
   "outputs": [],
   "source": [
    "import numpy as np"
   ]
  },
  {
   "cell_type": "markdown",
   "metadata": {},
   "source": [
    "## What is Sudoku\n",
    "From Wikipedia:\n",
    "Sudoku is a logic-based, combinatorial number-placement puzzle. In classic sudoku, the objective is to fill a 9×9 grid with digits so that each column, each row, and each of the nine 3×3 subgrids that compose the grid contain all of the digits from 1 to 9. \n",
    "\n",
    "#### Here is an exmple for intial Sudoku board:\n",
    "Zero digit represent empty cells"
   ]
  },
  {
   "cell_type": "code",
   "execution_count": 89,
   "metadata": {},
   "outputs": [],
   "source": [
    "sudoku = np.array([[2,0,0,0,0,0,9,5,1],\n",
    "                   [0,0,0,0,0,0,0,0,7],\n",
    "                   [8,7,6,0,0,5,2,0,0],\n",
    "                   [3,0,4,0,2,8,0,0,0],\n",
    "                   [0,0,0,0,0,0,5,0,9],\n",
    "                   [0,0,5,0,0,1,3,0,4],\n",
    "                   [0,2,0,0,8,4,0,1,0],\n",
    "                   [0,0,0,0,1,0,0,0,0],\n",
    "                   [0,0,0,0,0,0,0,0,0]]).reshape(9,9)"
   ]
  },
  {
   "cell_type": "markdown",
   "metadata": {},
   "source": [
    "The following function check if the digit `n` can be placed in position `(x,y)` in the board "
   ]
  },
  {
   "cell_type": "code",
   "execution_count": 90,
   "metadata": {},
   "outputs": [],
   "source": [
    "def possible(y,x,n):\n",
    "    global sudoku\n",
    "    for i in range(0,9):\n",
    "        if sudoku[y][i] == n:\n",
    "            return False\n",
    "    for i in range(0,9):\n",
    "        if sudoku[i][x] == n:\n",
    "            return False\n",
    "    x0 = (x//3) * 3\n",
    "    y0 = (y//3) * 3\n",
    "    for i in range(0,3):\n",
    "        for j in range(0,3):\n",
    "            if sudoku[y0+i][x0+j] == n:\n",
    "                return False\n",
    "    return True"
   ]
  },
  {
   "cell_type": "markdown",
   "metadata": {},
   "source": [
    "The `solve` function check iteratively (using the power of generators and recursion) each empty cell in the board"
   ]
  },
  {
   "cell_type": "code",
   "execution_count": 91,
   "metadata": {},
   "outputs": [],
   "source": [
    "def solve():\n",
    "    global sudoku\n",
    "    for y in range(9):\n",
    "        for x in range(9):\n",
    "            if sudoku[y][x]== 0:\n",
    "                for n in range(1,10):\n",
    "                    if possible(y,x,n):\n",
    "                        sudoku[y][x] = n\n",
    "                        yield from solve()\n",
    "                        sudoku[y][x] = 0\n",
    "                return\n",
    "    yield np.matrix(sudoku, copy=True)"
   ]
  },
  {
   "cell_type": "code",
   "execution_count": 92,
   "metadata": {},
   "outputs": [],
   "source": [
    "s = solve()"
   ]
  },
  {
   "cell_type": "code",
   "execution_count": 99,
   "metadata": {},
   "outputs": [
    {
     "data": {
      "text/plain": [
       "matrix([[2, 4, 3, 8, 7, 6, 9, 5, 1],\n",
       "        [5, 1, 9, 2, 4, 3, 8, 6, 7],\n",
       "        [8, 7, 6, 1, 9, 5, 2, 4, 3],\n",
       "        [3, 9, 4, 5, 2, 8, 1, 7, 6],\n",
       "        [1, 6, 2, 4, 3, 7, 5, 8, 9],\n",
       "        [7, 8, 5, 9, 6, 1, 3, 2, 4],\n",
       "        [9, 2, 7, 3, 8, 4, 6, 1, 5],\n",
       "        [6, 5, 8, 7, 1, 9, 4, 3, 2],\n",
       "        [4, 3, 1, 6, 5, 2, 7, 9, 8]])"
      ]
     },
     "execution_count": 99,
     "metadata": {},
     "output_type": "execute_result"
    }
   ],
   "source": [
    "next(s)"
   ]
  },
  {
   "cell_type": "code",
   "execution_count": null,
   "metadata": {},
   "outputs": [],
   "source": []
  }
 ],
 "metadata": {
  "kernelspec": {
   "display_name": "Python 3",
   "language": "python",
   "name": "python3"
  },
  "language_info": {
   "codemirror_mode": {
    "name": "ipython",
    "version": 3
   },
   "file_extension": ".py",
   "mimetype": "text/x-python",
   "name": "python",
   "nbconvert_exporter": "python",
   "pygments_lexer": "ipython3",
   "version": "3.7.6"
  }
 },
 "nbformat": 4,
 "nbformat_minor": 4
}
